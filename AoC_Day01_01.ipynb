{
  "nbformat": 4,
  "nbformat_minor": 0,
  "metadata": {
    "colab": {
      "name": "AoC_Day01_01.ipynb",
      "provenance": [],
      "mount_file_id": "1SkukyF43jJsIbvFDMYIGcJ-N7bXeOsQi",
      "authorship_tag": "ABX9TyMKWfSXCI+36EkqX6Yrvul5",
      "include_colab_link": true
    },
    "kernelspec": {
      "name": "python3",
      "display_name": "Python 3"
    },
    "language_info": {
      "name": "python"
    }
  },
  "cells": [
    {
      "cell_type": "markdown",
      "metadata": {
        "id": "view-in-github",
        "colab_type": "text"
      },
      "source": [
        "<a href=\"https://colab.research.google.com/github/bcapistrant/AdventofCode2021/blob/main/AoC_Day01_01.ipynb\" target=\"_parent\"><img src=\"https://colab.research.google.com/assets/colab-badge.svg\" alt=\"Open In Colab\"/></a>"
      ]
    },
    {
      "cell_type": "code",
      "metadata": {
        "id": "f3eiX5-VGEXl"
      },
      "source": [
        "import pandas as pd\n",
        "import numpy as np"
      ],
      "execution_count": 1,
      "outputs": []
    },
    {
      "cell_type": "code",
      "metadata": {
        "id": "Bml5FvrwGrsM"
      },
      "source": [
        "## Load the Drive helper and mount\n",
        "#from google.colab import drive\n",
        "\n",
        "## This will prompt for authorization.\n",
        "#drive.mount('/content/drive')"
      ],
      "execution_count": 3,
      "outputs": []
    },
    {
      "cell_type": "code",
      "metadata": {
        "id": "LM4SuxstIOJZ"
      },
      "source": [
        "## After executing the cell above, Drive\n",
        "## files will be present in \"/content/drive/My Drive\".\n",
        "#!ls \"/content/drive/My Drive\""
      ],
      "execution_count": null,
      "outputs": []
    },
    {
      "cell_type": "code",
      "metadata": {
        "colab": {
          "base_uri": "https://localhost:8080/",
          "height": 206
        },
        "id": "dcIzbZNJHmUW",
        "outputId": "c45da987-7977-4cc6-fd07-e1a497674ba5"
      },
      "source": [
        "## Using pandas read_csv to read in the AoC input, which I saved as a txt file.\n",
        "## Assigning the name of the column directly, lest it assume the first value was the column header\n",
        "\n",
        "a_df = pd.read_csv(\"/content/drive/MyDrive/AoC_Day01_input.txt\", names=[\"readings\"])\n",
        "a_df.head()"
      ],
      "execution_count": 6,
      "outputs": [
        {
          "output_type": "execute_result",
          "data": {
            "text/html": [
              "<div>\n",
              "<style scoped>\n",
              "    .dataframe tbody tr th:only-of-type {\n",
              "        vertical-align: middle;\n",
              "    }\n",
              "\n",
              "    .dataframe tbody tr th {\n",
              "        vertical-align: top;\n",
              "    }\n",
              "\n",
              "    .dataframe thead th {\n",
              "        text-align: right;\n",
              "    }\n",
              "</style>\n",
              "<table border=\"1\" class=\"dataframe\">\n",
              "  <thead>\n",
              "    <tr style=\"text-align: right;\">\n",
              "      <th></th>\n",
              "      <th>readings</th>\n",
              "    </tr>\n",
              "  </thead>\n",
              "  <tbody>\n",
              "    <tr>\n",
              "      <th>0</th>\n",
              "      <td>157</td>\n",
              "    </tr>\n",
              "    <tr>\n",
              "      <th>1</th>\n",
              "      <td>158</td>\n",
              "    </tr>\n",
              "    <tr>\n",
              "      <th>2</th>\n",
              "      <td>167</td>\n",
              "    </tr>\n",
              "    <tr>\n",
              "      <th>3</th>\n",
              "      <td>157</td>\n",
              "    </tr>\n",
              "    <tr>\n",
              "      <th>4</th>\n",
              "      <td>148</td>\n",
              "    </tr>\n",
              "  </tbody>\n",
              "</table>\n",
              "</div>"
            ],
            "text/plain": [
              "   readings\n",
              "0       157\n",
              "1       158\n",
              "2       167\n",
              "3       157\n",
              "4       148"
            ]
          },
          "metadata": {},
          "execution_count": 6
        }
      ]
    },
    {
      "cell_type": "code",
      "metadata": {
        "colab": {
          "base_uri": "https://localhost:8080/"
        },
        "id": "leNrTnYALpB5",
        "outputId": "3f81d777-43a6-4147-ee0c-83379e58ecaf"
      },
      "source": [
        "## Using `shift` (https://pandas.pydata.org/pandas-docs/stable/reference/api/pandas.Series.shift.html)\n",
        "## Renaming the Boolean True/False to Strings or Increased/Decreased\n",
        "a_df['match'] = a_df.readings.gt(a_df.readings.shift()).map({True: 'Increased', False: 'Decreased'})\n",
        "\n",
        "## Using `size` to count by group\n",
        "a_df.groupby(['match']).size()"
      ],
      "execution_count": 44,
      "outputs": [
        {
          "output_type": "execute_result",
          "data": {
            "text/plain": [
              "match\n",
              "Decreased     708\n",
              "Increased    1292\n",
              "dtype: int64"
            ]
          },
          "metadata": {},
          "execution_count": 44
        }
      ]
    },
    {
      "cell_type": "markdown",
      "metadata": {
        "id": "0zksfAHdPPWd"
      },
      "source": [
        "# Part 2"
      ]
    },
    {
      "cell_type": "code",
      "metadata": {
        "colab": {
          "base_uri": "https://localhost:8080/",
          "height": 206
        },
        "id": "xtvj7Lhpbn2R",
        "outputId": "eb571067-24f8-4139-c473-df2ec7824e4f"
      },
      "source": [
        "## Reset index of previous dataframe and rename it for the second part\n",
        "b_df=a_df.reset_index()\n",
        "\n",
        "## Make a rolling sum of three rows' readings\n",
        "b_df['sum3rows']= df['readings'].rolling(window=3).sum()\n",
        "## Just keep the new column, drop first 2 rows (b/c first value is in 3rd row)\n",
        "b_df.head()\n"
      ],
      "execution_count": 42,
      "outputs": [
        {
          "output_type": "execute_result",
          "data": {
            "text/html": [
              "<div>\n",
              "<style scoped>\n",
              "    .dataframe tbody tr th:only-of-type {\n",
              "        vertical-align: middle;\n",
              "    }\n",
              "\n",
              "    .dataframe tbody tr th {\n",
              "        vertical-align: top;\n",
              "    }\n",
              "\n",
              "    .dataframe thead th {\n",
              "        text-align: right;\n",
              "    }\n",
              "</style>\n",
              "<table border=\"1\" class=\"dataframe\">\n",
              "  <thead>\n",
              "    <tr style=\"text-align: right;\">\n",
              "      <th></th>\n",
              "      <th>index</th>\n",
              "      <th>readings</th>\n",
              "      <th>match</th>\n",
              "      <th>rowsums</th>\n",
              "      <th>sum3rows</th>\n",
              "    </tr>\n",
              "  </thead>\n",
              "  <tbody>\n",
              "    <tr>\n",
              "      <th>0</th>\n",
              "      <td>0</td>\n",
              "      <td>157</td>\n",
              "      <td>Decreased</td>\n",
              "      <td>482.0</td>\n",
              "      <td>NaN</td>\n",
              "    </tr>\n",
              "    <tr>\n",
              "      <th>1</th>\n",
              "      <td>1</td>\n",
              "      <td>158</td>\n",
              "      <td>Increased</td>\n",
              "      <td>459.0</td>\n",
              "      <td>NaN</td>\n",
              "    </tr>\n",
              "    <tr>\n",
              "      <th>2</th>\n",
              "      <td>2</td>\n",
              "      <td>167</td>\n",
              "      <td>Increased</td>\n",
              "      <td>462.0</td>\n",
              "      <td>482.0</td>\n",
              "    </tr>\n",
              "    <tr>\n",
              "      <th>3</th>\n",
              "      <td>3</td>\n",
              "      <td>157</td>\n",
              "      <td>Decreased</td>\n",
              "      <td>370.0</td>\n",
              "      <td>482.0</td>\n",
              "    </tr>\n",
              "    <tr>\n",
              "      <th>4</th>\n",
              "      <td>4</td>\n",
              "      <td>148</td>\n",
              "      <td>Decreased</td>\n",
              "      <td>399.0</td>\n",
              "      <td>472.0</td>\n",
              "    </tr>\n",
              "  </tbody>\n",
              "</table>\n",
              "</div>"
            ],
            "text/plain": [
              "   index  readings      match  rowsums  sum3rows\n",
              "0      0       157  Decreased    482.0       NaN\n",
              "1      1       158  Increased    459.0       NaN\n",
              "2      2       167  Increased    462.0     482.0\n",
              "3      3       157  Decreased    370.0     482.0\n",
              "4      4       148  Decreased    399.0     472.0"
            ]
          },
          "metadata": {},
          "execution_count": 42
        }
      ]
    },
    {
      "cell_type": "code",
      "metadata": {
        "colab": {
          "base_uri": "https://localhost:8080/"
        },
        "id": "01UTazA6iNz0",
        "outputId": "568f6abc-c76e-41d2-81f1-9cfa95832b8e"
      },
      "source": [
        "## Repeat the code above to count increases and decreases.\n",
        "b_df['match'] = b_df.sum3rows.gt(b_df.sum3rows.shift()).map({True: 'Increased', False: 'Decreased'})\n",
        "b_df.groupby(['match']).size()\n"
      ],
      "execution_count": 43,
      "outputs": [
        {
          "output_type": "execute_result",
          "data": {
            "text/plain": [
              "match\n",
              "Decreased     738\n",
              "Increased    1262\n",
              "dtype: int64"
            ]
          },
          "metadata": {},
          "execution_count": 43
        }
      ]
    }
  ]
}