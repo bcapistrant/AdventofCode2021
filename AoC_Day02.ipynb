{
  "nbformat": 4,
  "nbformat_minor": 0,
  "metadata": {
    "colab": {
      "name": "AoC_Day02.ipynb",
      "provenance": [],
      "authorship_tag": "ABX9TyMAeBtYdcCfJ42GcMHlcGFH",
      "include_colab_link": true
    },
    "kernelspec": {
      "name": "python3",
      "display_name": "Python 3"
    },
    "language_info": {
      "name": "python"
    }
  },
  "cells": [
    {
      "cell_type": "markdown",
      "metadata": {
        "id": "view-in-github",
        "colab_type": "text"
      },
      "source": [
        "<a href=\"https://colab.research.google.com/github/bcapistrant/AdventofCode2021/blob/main/AoC_Day02.ipynb\" target=\"_parent\"><img src=\"https://colab.research.google.com/assets/colab-badge.svg\" alt=\"Open In Colab\"/></a>"
      ]
    },
    {
      "cell_type": "code",
      "metadata": {
        "id": "xhfugeFEagfZ"
      },
      "source": [
        "import pandas as pd\n",
        "import numpy as np\n",
        "\n",
        "## Load the Drive helper and mount\n",
        "from google.colab import drive\n",
        "\n",
        "## This will prompt for authorization.\n",
        "#drive.mount('/content/drive')\n",
        "\n",
        "a_df = pd.read_csv(\"/content/drive/MyDrive/AoC_Day02_input.txt\", sep=\" \", names=[\"direction\", \"distance\"])\n",
        "#a_df.head()"
      ],
      "execution_count": null,
      "outputs": []
    },
    {
      "cell_type": "markdown",
      "metadata": {
        "id": "18u2WW3yjWHn"
      },
      "source": [
        "# Part 1"
      ]
    },
    {
      "cell_type": "code",
      "metadata": {
        "id": "Tx1oYM4Ueers"
      },
      "source": [
        "a_df['new_distance'] = np.where(a_df['direction'] == 'up', a_df['distance']*-1, a_df['distance'])\n",
        "a_df['horizontal'] = np.where(a_df['direction'] == 'forward', 'vertical', 'horizontal')\n",
        "a_df['direction_sum'] = a_df.groupby('horizontal')['new_distance'].cumsum()"
      ],
      "execution_count": null,
      "outputs": []
    },
    {
      "cell_type": "code",
      "metadata": {
        "id": "zwTumE86kYx1"
      },
      "source": [
        "df=pd.DataFrame(a_df.groupby('horizontal')['direction_sum'].last()).T\n",
        "df['product'] = df['horizontal']*df['vertical']\n",
        "print('The product of the values is', df.iloc[0]['product'])"
      ],
      "execution_count": null,
      "outputs": []
    },
    {
      "cell_type": "markdown",
      "metadata": {
        "id": "9JKT1x894o5I"
      },
      "source": [
        "# Part 2"
      ]
    },
    {
      "cell_type": "code",
      "metadata": {
        "colab": {
          "base_uri": "https://localhost:8080/"
        },
        "id": "6lizkx5O4rwt",
        "outputId": "957a5a88-7af6-464e-abdc-8bafd66acfa0"
      },
      "source": [
        "b_df = a_df[['direction', 'distance', 'new_distance']]\n",
        "b_df['vert_chng'] = np.where(b_df['direction'] == 'forward', 0, b_df['new_distance'])\n",
        "b_df['aim'] = b_df['vert_chng'].cumsum()\n",
        "\n",
        "b_df.head()\n",
        "\n",
        "vert_dist = b_df[b_df['direction'] == 'forward']['distance'].sum()\n",
        "horz_dist = (b_df[b_df['direction'] == 'forward']['distance'] * b_df[b_df['direction'] == 'forward']['aim']).sum()\n",
        "\n",
        "print('The product of the values is', vert_dist * horz_dist)"
      ],
      "execution_count": 72,
      "outputs": [
        {
          "output_type": "stream",
          "name": "stdout",
          "text": [
            "The product of the values is 1698850445\n"
          ]
        },
        {
          "output_type": "stream",
          "name": "stderr",
          "text": [
            "/usr/local/lib/python3.7/dist-packages/ipykernel_launcher.py:2: SettingWithCopyWarning: \n",
            "A value is trying to be set on a copy of a slice from a DataFrame.\n",
            "Try using .loc[row_indexer,col_indexer] = value instead\n",
            "\n",
            "See the caveats in the documentation: https://pandas.pydata.org/pandas-docs/stable/user_guide/indexing.html#returning-a-view-versus-a-copy\n",
            "  \n",
            "/usr/local/lib/python3.7/dist-packages/ipykernel_launcher.py:3: SettingWithCopyWarning: \n",
            "A value is trying to be set on a copy of a slice from a DataFrame.\n",
            "Try using .loc[row_indexer,col_indexer] = value instead\n",
            "\n",
            "See the caveats in the documentation: https://pandas.pydata.org/pandas-docs/stable/user_guide/indexing.html#returning-a-view-versus-a-copy\n",
            "  This is separate from the ipykernel package so we can avoid doing imports until\n"
          ]
        }
      ]
    },
    {
      "cell_type": "code",
      "metadata": {
        "id": "eC7T535bMUWk"
      },
      "source": [
        ""
      ],
      "execution_count": null,
      "outputs": []
    }
  ]
}